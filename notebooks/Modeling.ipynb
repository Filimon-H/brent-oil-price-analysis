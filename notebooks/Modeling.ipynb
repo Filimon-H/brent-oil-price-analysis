{
 "cells": [
  {
   "cell_type": "code",
   "execution_count": 3,
   "id": "5cb358b7",
   "metadata": {},
   "outputs": [],
   "source": [
    "#–Load and Plot Raw Price Data\n",
    "import sys\n",
    "import os\n",
    "\n",
    "# 🛠 Add the 'src' directory to Python's module search path\n",
    "sys.path.append(os.path.abspath(\"../src\"))"
   ]
  },
  {
   "cell_type": "code",
   "execution_count": 4,
   "id": "ceb27ac0",
   "metadata": {},
   "outputs": [],
   "source": [
    "from data_loader import load_and_clean_data\n",
    "from preprocessing import compute_log_returns\n",
    "from change_point_model import run_bayesian_change_point_model\n"
   ]
  },
  {
   "cell_type": "code",
   "execution_count": 5,
   "id": "b47e64ba",
   "metadata": {},
   "outputs": [],
   "source": [
    "# 📥 Load and clean Brent oil price data\n",
    "df = load_and_clean_data(\"../data/BrentOilPrices.csv\")\n",
    "\n",
    "# 🔁 Compute log returns for modeling\n",
    "df = compute_log_returns(df)\n",
    "\n",
    "# 🎯 Extract the series we'll use\n",
    "log_returns = df['LogReturn'].dropna()\n"
   ]
  }
 ],
 "metadata": {
  "kernelspec": {
   "display_name": ".venv",
   "language": "python",
   "name": "python3"
  },
  "language_info": {
   "codemirror_mode": {
    "name": "ipython",
    "version": 3
   },
   "file_extension": ".py",
   "mimetype": "text/x-python",
   "name": "python",
   "nbconvert_exporter": "python",
   "pygments_lexer": "ipython3",
   "version": "3.13.1"
  }
 },
 "nbformat": 4,
 "nbformat_minor": 5
}
